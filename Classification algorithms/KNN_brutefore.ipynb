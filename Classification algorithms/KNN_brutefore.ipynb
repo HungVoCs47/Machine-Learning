{
 "cells": [
  {
   "cell_type": "code",
   "execution_count": 8,
   "metadata": {},
   "outputs": [],
   "source": [
    "\n",
    "import math\n",
    "\n",
    "def KneighborsClassifier(X_train, y_train, X, Y, n_neighbors):\n",
    "    distance = []\n",
    "    for i in range(len(X_train)):\n",
    "        distance.append({\n",
    "                'label': y_train[i],\n",
    "                'distance_': compute_distance(X_train[i], X)})\n",
    "        \n",
    "    \n",
    "    distance.sort(key = lambda x: x[\"distance_\"])\n",
    "    labels = [item[\"label\"] for item in distance]\n",
    "    return labels[:n_neighbors]\n",
    "    \n",
    "def compute_distance(dataPoint1, dataPoint2):\n",
    "    res = 0\n",
    "    for i in range(4):\n",
    "        res += (dataPoint1[i] - dataPoint2[i])**2\n",
    "    \n",
    "    return math.sqrt(res)\n",
    "\n",
    "\n",
    "def voteTheDistance(knn):\n",
    "    res = max(set(knn), key = knn.count)\n",
    "    return res\n"
   ]
  },
  {
   "cell_type": "code",
   "execution_count": 26,
   "metadata": {},
   "outputs": [
    {
     "name": "stdout",
     "output_type": "stream",
     "text": [
      "1 1\n",
      "0 0\n",
      "2 2\n",
      "1 1\n",
      "1 1\n",
      "0 0\n",
      "1 1\n",
      "2 2\n",
      "1 1\n",
      "1 1\n",
      "2 2\n",
      "0 0\n",
      "0 0\n",
      "0 0\n",
      "0 0\n",
      "1 1\n",
      "2 2\n",
      "1 1\n",
      "1 1\n",
      "2 2\n",
      "0 0\n",
      "2 2\n",
      "0 0\n",
      "2 2\n",
      "2 2\n",
      "2 2\n",
      "2 2\n",
      "2 2\n",
      "0 0\n",
      "0 0\n"
     ]
    }
   ],
   "source": [
    "from sklearn.model_selection import train_test_split\n",
    "from sklearn.datasets import load_iris\n",
    "\n",
    "\n",
    "iris_data = load_iris()\n",
    "\n",
    "X = iris_data.data\n",
    "y = iris_data.target\n",
    "\n",
    "\n",
    "X_train, X_test, y_train, y_test = train_test_split(\n",
    "             X, y, test_size = 0.2, random_state=42)\n",
    "\n",
    "\n",
    "y_pred = []\n",
    "for i in range(len(X_test)):\n",
    "    knn = KneighborsClassifier(X_train, y_train, X_test[i], y_test[i], n_neighbors=2)\n",
    "    label = voteTheDistance(knn)\n",
    "    #print(label, y_test[i])\n",
    "    y_pred.append(label)\n",
    "    print(label, y_test[i])\n",
    "\n",
    "\n",
    "        \n",
    "    "
   ]
  },
  {
   "cell_type": "code",
   "execution_count": 27,
   "metadata": {},
   "outputs": [
    {
     "data": {
      "text/plain": [
       "1.0"
      ]
     },
     "execution_count": 27,
     "metadata": {},
     "output_type": "execute_result"
    }
   ],
   "source": [
    "from sklearn.metrics import accuracy_score\n",
    "accuracy_score(y_test, y_pred)"
   ]
  }
 ],
 "metadata": {
  "kernelspec": {
   "display_name": "Python 3.9.1 64-bit",
   "language": "python",
   "name": "python3"
  },
  "language_info": {
   "codemirror_mode": {
    "name": "ipython",
    "version": 3
   },
   "file_extension": ".py",
   "mimetype": "text/x-python",
   "name": "python",
   "nbconvert_exporter": "python",
   "pygments_lexer": "ipython3",
   "version": "3.9.1"
  },
  "orig_nbformat": 4,
  "vscode": {
   "interpreter": {
    "hash": "2490855b5cec164743b88aa6beee7cff96c6731ddd63ef61c72ab00dc4cb9891"
   }
  }
 },
 "nbformat": 4,
 "nbformat_minor": 2
}
