{
 "cells": [
  {
   "cell_type": "code",
   "execution_count": 17,
   "metadata": {},
   "outputs": [],
   "source": [
    "import numpy as np\n",
    "import pandas as pd\n",
    "from sklearn import datasets\n",
    "from sklearn.model_selection import train_test_split\n",
    "iris = datasets.load_iris()\n",
    "\n",
    "X = iris.data\n",
    "X = X[:, [2,3]]\n",
    "y = iris.target\n",
    "\n"
   ]
  },
  {
   "cell_type": "code",
   "execution_count": 19,
   "metadata": {},
   "outputs": [],
   "source": [
    "class Node():\n",
    "    def __init__(self, feature_index = None, threshold = None, left = None, right = None, info_gain = None, value = None):\n",
    "        self.feature_index = feature_index\n",
    "        self.threshold = threshold\n",
    "        self.left = left\n",
    "        self.right = right\n",
    "        self.info_gain = info_gain\n",
    "        self.value = value\n",
    "        \n",
    "class DecisionTreeClassifier():\n",
    "    def __init__(self, min_sample_split = 2, max_depth = 2):\n",
    "        self.root = None\n",
    "        self.min_sample_split = min_sample_split\n",
    "        self.max_depth = max_depth\n",
    "        \n",
    "    def build_tree(self, dataset, curr_depth = 0):\n",
    "        X, y = dataset[:,:2], dataset[:,2:]\n",
    "        num_samples, num_features = np.shape(X)\n",
    "         \n",
    "        if num_samples >= self.min_sample_split and curr_depth <= self.max_depth:\n",
    "            best_split = self.get_best_split(dataset, num_samples, num_features)\n",
    "            if best_split[\"info_gain\"] > 0 :\n",
    "                left_subtree = self.build_tree(best_split[\"dataset_left\"], curr_depth + 1)\n",
    "                right_subtree  = self.build_tree(best_split[\"dataset_right\"], curr_depth + 1)\n",
    "                return Node(best_split[\"feature_index\"], best_split[\"threshold\"], left_subtree, right_subtree, best_split[\"info_gain\"])\n",
    "        leaf_value  = self.calculate_leaf_value(y)\n",
    "        return Node(value = leaf_value)\n",
    "    \n",
    "    \n",
    "    def get_best_split(self, dataset, num_samples, num_features):\n",
    "        best_split = {}\n",
    "        max_info_gain = -float(\"inf\")\n",
    "        for feature_index in range(num_features):\n",
    "            feature_value = dataset[:, feature_index]\n",
    "            possible_thresholds = np.unique(feature_value)\n",
    "            for threshold in possible_thresholds:\n",
    "                dataset_left, dataset_right = self.split(dataset, feature_index, threshold)\n",
    "                if len(dataset_left) > 0  and len(dataset_right) > 0:\n",
    "                    y, left_y, right_y = dataset[:,-1], dataset_left[:,-1], dataset_right[:,-1]\n",
    "                    curr_info_gain = self.infomation_gain(y, left_y, right_y)\n",
    "                    if curr_info_gain > max_info_gain:\n",
    "                        max_info_gain = curr_info_gain\n",
    "                        best_split[\"feature_index\"] = feature_index\n",
    "                        best_split[\"threshold\"] = threshold\n",
    "                        best_split[\"dataset_left\"] = dataset_left\n",
    "                        best_split[\"dataset_right\"] = dataset_right\n",
    "                        best_split[\"info_gain\"] = curr_info_gain\n",
    "        return best_split\n",
    "    \n",
    "    def split(self, dataset, feature_index, threshold):\n",
    "        dataset_left = np.array([row for row in dataset if row[feature_index]<=threshold])\n",
    "        dataset_right = np.array([row for row in dataset if row[feature_index]>threshold])\n",
    "        return dataset_left, dataset_right\n",
    "    \n",
    "    def infomation_gain(self, parent, l_child, r_child):\n",
    "        weight_l = len(l_child)/len(parent)\n",
    "        weight_r = len(r_child)/len(parent)\n",
    "        gain = self.entropy(parent) - (weight_l*self.entropy(l_child) + weight_r*self.entropy(r_child))\n",
    "        return gain\n",
    "    \n",
    "    def entropy(self, y):\n",
    "        class_label = np.unique(y)\n",
    "        entropy = 0\n",
    "        for clf in class_label:\n",
    "            p_cls = len(y[y==clf])/len(y)\n",
    "            entropy = - p_cls * np.log2(p_cls)\n",
    "        return entropy\n",
    "    \n",
    "    def calculate_leaf_value(self,y):\n",
    "        y = list(y)\n",
    "        return max(y, key = y.count)\n",
    "    \n",
    "    \n",
    "    def fit(self, X, y):\n",
    "        datasets = np.concatenate((X, y), axis=1)\n",
    "        self.root = self.build_tree(datasets)\n",
    "        \n",
    "    def predict(self, X):\n",
    "        predictions = [self.make_prediction(x, self.root) for x in X]\n",
    "        return predictions\n",
    "    \n",
    "    def make_prediction(self, x, tree):\n",
    "         if tree.value!=None: return tree.value\n",
    "         feature_val = x[tree.feature_index]\n",
    "         if feature_val<=tree.threshold:\n",
    "            return self.make_prediction(x, tree.left)\n",
    "         else:\n",
    "            return self.make_prediction(x, tree.right)"
   ]
  },
  {
   "cell_type": "code",
   "execution_count": 20,
   "metadata": {},
   "outputs": [],
   "source": [
    "y = np.array(y)\n",
    "y = y.reshape(-1,1)\n",
    "from sklearn.model_selection import train_test_split\n",
    "X_train, X_test, Y_train, Y_test = train_test_split(X, y, test_size=.2, random_state=41)\n",
    "classifier = DecisionTreeClassifier(min_sample_split=3, max_depth=3)\n",
    "classifier.fit(X_train, Y_train)"
   ]
  },
  {
   "cell_type": "code",
   "execution_count": 21,
   "metadata": {},
   "outputs": [
    {
     "data": {
      "text/plain": [
       "0.8333333333333334"
      ]
     },
     "execution_count": 21,
     "metadata": {},
     "output_type": "execute_result"
    }
   ],
   "source": [
    "Y_pred = classifier.predict(X_test) \n",
    "from sklearn.metrics import accuracy_score\n",
    "accuracy_score(Y_test, Y_pred)"
   ]
  },
  {
   "cell_type": "code",
   "execution_count": 65,
   "metadata": {},
   "outputs": [],
   "source": [
    "from matplotlib.colors import ListedColormap\n",
    "import matplotlib.pyplot as plt\n",
    "import matplotlib\n",
    "from distutils.version import LooseVersion\n",
    "def plot_decision_regions(X, y, classifier, test_idx=None, resolution=0.2):\n",
    "  markers = ('s', 'x', 'o', '^', 'v')\n",
    "  colors = ('red', 'blue', 'lightgreen', 'gray', 'cyan')\n",
    "  x1_min, x1_max = X[:, 0].min() - 1, X[:, 0].max() + 1\n",
    "  x2_min, x2_max = X[:, 1].min() - 1, X[:, 1].max() + 1\n",
    "  xx1, xx2 = np.meshgrid(np.arange(x1_min, x1_max, resolution), np.arange(x2_min, x2_max, resolution))\n",
    "  M_ = np.array([xx1.ravel(), xx2.ravel()]).T\n",
    "  Z = classifier.predict(M_)\n",
    "  Z = np.array(Z)\n",
    "  Z = Z.reshape(xx1.shape)\n",
    "  print(Z.shape)\n",
    "  print(xx1.shape)\n",
    "  plt.contourf(xx1, xx2, Z, alpha=0.3)\n",
    "  c = np.array([1,1,1])\n",
    "  for idx, cl in enumerate(np.unique(y)):\n",
    "    for x in range(len(X)):\n",
    "      if y[x] == cl and c[cl] == 1:\n",
    "           plt.scatter(x=X[x][0], y=X[x][1], alpha=0.8, color=colors[idx], marker=markers[idx], label=cl, edgecolor='black')\n",
    "           c[cl] = 0\n",
    "      elif  y[x] == cl and c[cl] == 0 :\n",
    "            plt.scatter(x=X[x][0], y=X[x][1], alpha=0.8, color=colors[idx], marker=markers[idx], edgecolor='black')\n",
    "    \n"
   ]
  },
  {
   "cell_type": "code",
   "execution_count": 66,
   "metadata": {},
   "outputs": [
    {
     "name": "stdout",
     "output_type": "stream",
     "text": [
      "(21, 34)\n",
      "(21, 34)\n"
     ]
    },
    {
     "name": "stderr",
     "output_type": "stream",
     "text": [
      "C:\\Users\\HungVo\\AppData\\Local\\Temp\\ipykernel_525588\\1189313325.py:22: UserWarning: You passed a edgecolor/edgecolors ('black') for an unfilled marker ('x').  Matplotlib is ignoring the edgecolor in favor of the facecolor.  This behavior may change in the future.\n",
      "  plt.scatter(x=X[x][0], y=X[x][1], alpha=0.8, color=colors[idx], marker=markers[idx], label=cl, edgecolor='black')\n",
      "C:\\Users\\HungVo\\AppData\\Local\\Temp\\ipykernel_525588\\1189313325.py:25: UserWarning: You passed a edgecolor/edgecolors ('black') for an unfilled marker ('x').  Matplotlib is ignoring the edgecolor in favor of the facecolor.  This behavior may change in the future.\n",
      "  plt.scatter(x=X[x][0], y=X[x][1], alpha=0.8, color=colors[idx], marker=markers[idx], edgecolor='black')\n"
     ]
    },
    {
     "data": {
      "image/png": "[encoded data removed]",
      "text/plain": [
       "<Figure size 640x480 with 1 Axes>"
      ]
     },
     "metadata": {},
     "output_type": "display_data"
    }
   ],
   "source": [
    "plot_decision_regions(X_test, Y_test, \n",
    "                      classifier=classifier,\n",
    "                      test_idx=range(105, 150))\n",
    "\n",
    "plt.xlabel('petal length [std]')\n",
    "plt.ylabel('petal width [std]')\n",
    "plt.legend(loc='upper left')\n",
    "plt.tight_layout()\n",
    "\n",
    "plt.show()"
   ]
  }
 ],
 "metadata": {
  "kernelspec": {
   "display_name": "Python 3.9.1 64-bit",
   "language": "python",
   "name": "python3"
  },
  "language_info": {
   "codemirror_mode": {
    "name": "ipython",
    "version": 3
   },
   "file_extension": ".py",
   "mimetype": "text/x-python",
   "name": "python",
   "nbconvert_exporter": "python",
   "pygments_lexer": "ipython3",
   "version": "3.9.1"
  },
  "orig_nbformat": 4,
  "vscode": {
   "interpreter": {
    "hash": "2490855b5cec164743b88aa6beee7cff96c6731ddd63ef61c72ab00dc4cb9891"
   }
  }
 },
 "nbformat": 4,
 "nbformat_minor": 2
}
