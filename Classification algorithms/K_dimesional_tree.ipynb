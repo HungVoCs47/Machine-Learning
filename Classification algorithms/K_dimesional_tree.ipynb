{
 "cells": [
  {
   "cell_type": "code",
   "execution_count": 163,
   "metadata": {},
   "outputs": [],
   "source": [
    "import math\n",
    "import numpy as np\n",
    "from unittest.mock import NonCallableMagicMock\n",
    "from urllib.parse import non_hierarchical\n",
    "\n",
    "class Node:\n",
    "    def __init__(self, _id, data, axis, left = None, right = None):\n",
    "        self._id = _id\n",
    "        self.left = left    \n",
    "        self.right = right \n",
    "        self.axis = axis\n",
    "        self.data = data\n",
    "\n",
    "class KD_Tree:\n",
    "    def __init__(self, data):\n",
    "        self.data = data\n",
    "        self.tree = None\n",
    "\n",
    "    def _build(self, points, depth):\n",
    "        k = len(points.columns)\n",
    "        _axis = depth % k\n",
    "        _column = points.columns[_axis]\n",
    "        \n",
    "        if len(points) == 0:\n",
    "            return None\n",
    "        \n",
    "        object_list = points.sort_values(by = [_column], ascending = True)\n",
    "        if len(object_list) % 2 == 0:\n",
    "            median_idx = int((len(object_list)/2))\n",
    "        else:\n",
    "            median_idx = math.floor((len(object_list)/2))\n",
    "        #print(object_list.iloc[median_idx][_column])\n",
    "        node = Node(_id = round(object_list.iloc[median_idx][_column],3),\n",
    "                    data = object_list.iloc[median_idx],\n",
    "                    axis = _column)\n",
    "        node.left = self._build(object_list.iloc[0:median_idx], depth+1)\n",
    "\n",
    "        node.right  = self._build(object_list.iloc[median_idx+1:],  depth+1)\n",
    "           \n",
    "        return node\n",
    "            \n",
    "    def build(self):\n",
    "        self.tree = self._build(self.data, depth = 0)\n",
    "        \n",
    "    def distance(self, X, Y):\n",
    "        res = 0\n",
    "        for i in range(len(X)):\n",
    "            res += (X[i] - Y[i])**2\n",
    "        return math.sqrt(res)\n",
    "        \n",
    "    def nearest(self, query, node, best_node, best_distance):\n",
    "        if node == None:\n",
    "            return best_node, best_distance\n",
    "        \n",
    "        d = self.distance(query.values[0], node.data.values)\n",
    "        #print(node.data.values)\n",
    "        #print(node.data.values)\n",
    "        if d <  best_distance:\n",
    "            best_node = node\n",
    "            best_distance = d\n",
    "            \n",
    "     \n",
    "        if query[node.axis].values[0] < node.data[node.axis]:\n",
    "            good_side = node.left\n",
    "            bad_side = node.right\n",
    "        else:\n",
    "            good_side = node.right\n",
    "            bad_side = node.left\n",
    "        \n",
    "        #print(good_side.data)\n",
    "        best_node, best_distance  = self.nearest(query, good_side, best_node, best_distance)\n",
    "        if abs(query[node.axis].values[0] - node.data[node.axis])  < best_distance:\n",
    "            #print(query[node.axis].values[0])\n",
    "            best_node, best_distance  = self.nearest(query, bad_side, best_node, best_distance)\n",
    "        \n",
    "            \n",
    "        return best_node, best_distance\n",
    "    \n",
    "    def create_nn(self, query):\n",
    "        return self.nearest(query, self.tree, None, np.infty)\n",
    "        \n",
    "    "
   ]
  },
  {
   "cell_type": "code",
   "execution_count": 166,
   "metadata": {},
   "outputs": [
    {
     "name": "stdout",
     "output_type": "stream",
     "text": [
      "7\n",
      "4\n",
      "2\n",
      "4\n",
      "6\n",
      "8\n"
     ]
    }
   ],
   "source": [
    "import pandas as pd\n",
    "test_df = pd.DataFrame(data = [[2,3], [5,4], [9,6], [4,7], [8,1], [7,2]], columns = [\"X\",\"Y\"])\n",
    "KD = KD_Tree(test_df)\n",
    "KD.build()\n",
    "node = KD.tree\n",
    "#print(node._id)\n"
   ]
  },
  {
   "cell_type": "code",
   "execution_count": 167,
   "metadata": {},
   "outputs": [
    {
     "name": "stdout",
     "output_type": "stream",
     "text": [
      "X    4\n",
      "Y    7\n",
      "Name: 3, dtype: int64\n"
     ]
    }
   ],
   "source": [
    "query = pd.DataFrame(data = [[6,7]], columns = [\"X\", \"Y\"])\n",
    "#print(query)\n",
    "res = KD.create_nn(query)\n",
    "print(res[0].data)"
   ]
  }
 ],
 "metadata": {
  "kernelspec": {
   "display_name": "Python 3.9.1 64-bit",
   "language": "python",
   "name": "python3"
  },
  "language_info": {
   "codemirror_mode": {
    "name": "ipython",
    "version": 3
   },
   "file_extension": ".py",
   "mimetype": "text/x-python",
   "name": "python",
   "nbconvert_exporter": "python",
   "pygments_lexer": "ipython3",
   "version": "3.9.1"
  },
  "orig_nbformat": 4,
  "vscode": {
   "interpreter": {
    "hash": "2490855b5cec164743b88aa6beee7cff96c6731ddd63ef61c72ab00dc4cb9891"
   }
  }
 },
 "nbformat": 4,
 "nbformat_minor": 2
}
