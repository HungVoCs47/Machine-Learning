{
  "nbformat": 4,
  "nbformat_minor": 0,
  "metadata": {
    "colab": {
      "name": "Principal component analysis.ipynb",
      "provenance": [],
      "collapsed_sections": []
    },
    "kernelspec": {
      "name": "python3",
      "display_name": "Python 3"
    },
    "language_info": {
      "name": "python"
    }
  },
  "cells": [
    {
      "cell_type": "markdown",
      "source": [
        "##PCA\n",
        "Assume that we are performing PCA on\n",
        "some dataset $\\boldsymbol X$ for $M$ principal components. \n",
        "We then need to perform the following steps, which we break into parts:\n",
        "\n",
        "1. Data normalization (`normalize`).\n",
        "2. Find eigenvalues and corresponding eigenvectors for the covariance matrix $S$.\n",
        "   Sort by the largest eigenvalues and the corresponding eigenvectors (`eig`).\n",
        "\n",
        "After these steps, we can then compute the projection and reconstruction of the data onto the spaced spanned by the top $n$ eigenvectors."
      ],
      "metadata": {
        "id": "mmPep7TDS23h"
      }
    },
    {
      "cell_type": "code",
      "execution_count": 295,
      "metadata": {
        "colab": {
          "base_uri": "https://localhost:8080/",
          "height": 272
        },
        "id": "CagiVWGCbRLr",
        "outputId": "a28b466a-bd97-4a76-ed39-188dfdfa81e3"
      },
      "outputs": [
        {
          "output_type": "display_data",
          "data": {
            "text/plain": [
              "<Figure size 288x288 with 1 Axes>"
            ],
            "image/png": "[encoded data removed]"
          },
          "metadata": {}
        }
      ],
      "source": [
        "import pandas as pd\n",
        "import numpy as np\n",
        "from sklearn import svm\n",
        "from sklearn import metrics\n",
        "import matplotlib.pyplot as plt\n",
        "import seaborn as sns; sns.set(font_scale=1.2)\n",
        "import tensorflow as tf\n",
        " \n",
        "(X_train, y_train), (X_test, y_test) = tf.keras.datasets.mnist.load_data()\n",
        "plt.figure(figsize=(4,4))\n",
        "plt.imshow(X_train[0].reshape(28,28), cmap='gray')\n",
        "plt.show()"
      ]
    },
    {
      "cell_type": "code",
      "source": [
        "def normalize(X):\n",
        "  mu = np.mean(X, axis=0)\n",
        "  std = np.std(X, axis=0)\n",
        "  std_filled = std.copy()\n",
        "  std_filled[std==0] = 1.\n",
        "  Xbar = ((X-mu)/std_filled)\n",
        "  return Xbar, mu, std\n",
        "\n",
        "def eig(S):\n",
        "  eigvals, eigvecs = np.linalg.eig(S)\n",
        "  k = np.argsort(eigvals)[::-1]\n",
        "  return eigvals[k], eigvecs[:,k]\n",
        "\n",
        "def projection_matrix(B):\n",
        "  return (B @ np.linalg.inv(B.T @ B) @ B.T)\n",
        "\n",
        "def PCA(X, num_components):\n",
        "  S = 1.0/len(X) * np.dot(X.T, X) # covariance matrix\n",
        "  eig_vals, eig_vecs = eig(S)\n",
        "  eig_vals, eig_vecs = eig_vals[:num_components], eig_vecs[:, :num_components]\n",
        "  B = np.real(eig_vecs)\n",
        "  reconst = (projection_matrix(B) @ X.T)\n",
        "  return reconst.T\n"
      ],
      "metadata": {
        "id": "QyZdjRLobaDj"
      },
      "execution_count": 296,
      "outputs": []
    },
    {
      "cell_type": "code",
      "source": [
        "NUM_DATAPOINTS = 100\n",
        "X = (X_train[100].reshape(28,28))\n",
        "#X = (X_train.reshape(-1, 28 * 28)[:NUM_DATAPOINTS]) / 255.\n",
        "Xbar, mu, std = normalize(X)"
      ],
      "metadata": {
        "id": "cGXGeR7TLNVY"
      },
      "execution_count": 297,
      "outputs": []
    },
    {
      "cell_type": "code",
      "source": [
        "def mse(predict, actual):\n",
        "    return np.square(predict - actual).sum(axis=1).mean()"
      ],
      "metadata": {
        "id": "0kqNiS4M6sui"
      },
      "execution_count": 298,
      "outputs": []
    },
    {
      "cell_type": "code",
      "source": [
        "reconstructions = []\n",
        "loss = []\n",
        "\n",
        "# iterate over different numbers of principal components, and compute the MSE\n",
        "for num_component in range(0, 100):\n",
        "    reconst = PCA(Xbar, num_component)\n",
        "    error = mse(reconst, Xbar)\n",
        "    reconstructions.append(reconst)\n",
        "    loss.append((num_component, error))\n",
        "\n",
        "reconstructions = np.asarray(reconstructions)\n",
        "print(len(reconstructions))\n",
        "reconstructions = reconstructions * std + mu\n",
        "loss = np.asarray(loss)"
      ],
      "metadata": {
        "id": "VRG_5T__N-vA",
        "colab": {
          "base_uri": "https://localhost:8080/"
        },
        "outputId": "02ac8c70-1bbc-475a-e21b-48a79a2f00e1"
      },
      "execution_count": 299,
      "outputs": [
        {
          "output_type": "stream",
          "name": "stdout",
          "text": [
            "100\n"
          ]
        }
      ]
    },
    {
      "cell_type": "code",
      "source": [
        "import pandas as pd\n",
        "# create a table showing the number of principal components and MSE\n",
        "pd.DataFrame(loss).head()"
      ],
      "metadata": {
        "colab": {
          "base_uri": "https://localhost:8080/",
          "height": 206
        },
        "id": "e0rUMMfv65kn",
        "outputId": "9b8b94d4-8a6a-4053-9840-76f0de7fdcc6"
      },
      "execution_count": 300,
      "outputs": [
        {
          "output_type": "execute_result",
          "data": {
            "text/plain": [
              "     0          1\n",
              "0  0.0  12.000000\n",
              "1  1.0   7.347112\n",
              "2  2.0   3.647518\n",
              "3  3.0   1.557369\n",
              "4  4.0   0.653536"
            ],
            "text/html": [
              "\n",
              "  <div id=\"df-369195f1-3a5a-465f-8400-19979db16f33\">\n",
              "    <div class=\"colab-df-container\">\n",
              "      <div>\n",
              "<style scoped>\n",
              "    .dataframe tbody tr th:only-of-type {\n",
              "        vertical-align: middle;\n",
              "    }\n",
              "\n",
              "    .dataframe tbody tr th {\n",
              "        vertical-align: top;\n",
              "    }\n",
              "\n",
              "    .dataframe thead th {\n",
              "        text-align: right;\n",
              "    }\n",
              "</style>\n",
              "<table border=\"1\" class=\"dataframe\">\n",
              "  <thead>\n",
              "    <tr style=\"text-align: right;\">\n",
              "      <th></th>\n",
              "      <th>0</th>\n",
              "      <th>1</th>\n",
              "    </tr>\n",
              "  </thead>\n",
              "  <tbody>\n",
              "    <tr>\n",
              "      <th>0</th>\n",
              "      <td>0.0</td>\n",
              "      <td>12.000000</td>\n",
              "    </tr>\n",
              "    <tr>\n",
              "      <th>1</th>\n",
              "      <td>1.0</td>\n",
              "      <td>7.347112</td>\n",
              "    </tr>\n",
              "    <tr>\n",
              "      <th>2</th>\n",
              "      <td>2.0</td>\n",
              "      <td>3.647518</td>\n",
              "    </tr>\n",
              "    <tr>\n",
              "      <th>3</th>\n",
              "      <td>3.0</td>\n",
              "      <td>1.557369</td>\n",
              "    </tr>\n",
              "    <tr>\n",
              "      <th>4</th>\n",
              "      <td>4.0</td>\n",
              "      <td>0.653536</td>\n",
              "    </tr>\n",
              "  </tbody>\n",
              "</table>\n",
              "</div>\n",
              "      <button class=\"colab-df-convert\" onclick=\"convertToInteractive('df-369195f1-3a5a-465f-8400-19979db16f33')\"\n",
              "              title=\"Convert this dataframe to an interactive table.\"\n",
              "              style=\"display:none;\">\n",
              "        \n",
              "  <svg xmlns=\"http://www.w3.org/2000/svg\" height=\"24px\"viewBox=\"0 0 24 24\"\n",
              "       width=\"24px\">\n",
              "    <path d=\"M0 0h24v24H0V0z\" fill=\"none\"/>\n",
              "    <path d=\"M18.56 5.44l.94 2.06.94-2.06 2.06-.94-2.06-.94-.94-2.06-.94 2.06-2.06.94zm-11 1L8.5 8.5l.94-2.06 2.06-.94-2.06-.94L8.5 2.5l-.94 2.06-2.06.94zm10 10l.94 2.06.94-2.06 2.06-.94-2.06-.94-.94-2.06-.94 2.06-2.06.94z\"/><path d=\"M17.41 7.96l-1.37-1.37c-.4-.4-.92-.59-1.43-.59-.52 0-1.04.2-1.43.59L10.3 9.45l-7.72 7.72c-.78.78-.78 2.05 0 2.83L4 21.41c.39.39.9.59 1.41.59.51 0 1.02-.2 1.41-.59l7.78-7.78 2.81-2.81c.8-.78.8-2.07 0-2.86zM5.41 20L4 18.59l7.72-7.72 1.47 1.35L5.41 20z\"/>\n",
              "  </svg>\n",
              "      </button>\n",
              "      \n",
              "  <style>\n",
              "    .colab-df-container {\n",
              "      display:flex;\n",
              "      flex-wrap:wrap;\n",
              "      gap: 12px;\n",
              "    }\n",
              "\n",
              "    .colab-df-convert {\n",
              "      background-color: #E8F0FE;\n",
              "      border: none;\n",
              "      border-radius: 50%;\n",
              "      cursor: pointer;\n",
              "      display: none;\n",
              "      fill: #1967D2;\n",
              "      height: 32px;\n",
              "      padding: 0 0 0 0;\n",
              "      width: 32px;\n",
              "    }\n",
              "\n",
              "    .colab-df-convert:hover {\n",
              "      background-color: #E2EBFA;\n",
              "      box-shadow: 0px 1px 2px rgba(60, 64, 67, 0.3), 0px 1px 3px 1px rgba(60, 64, 67, 0.15);\n",
              "      fill: #174EA6;\n",
              "    }\n",
              "\n",
              "    [theme=dark] .colab-df-convert {\n",
              "      background-color: #3B4455;\n",
              "      fill: #D2E3FC;\n",
              "    }\n",
              "\n",
              "    [theme=dark] .colab-df-convert:hover {\n",
              "      background-color: #434B5C;\n",
              "      box-shadow: 0px 1px 3px 1px rgba(0, 0, 0, 0.15);\n",
              "      filter: drop-shadow(0px 1px 2px rgba(0, 0, 0, 0.3));\n",
              "      fill: #FFFFFF;\n",
              "    }\n",
              "  </style>\n",
              "\n",
              "      <script>\n",
              "        const buttonEl =\n",
              "          document.querySelector('#df-369195f1-3a5a-465f-8400-19979db16f33 button.colab-df-convert');\n",
              "        buttonEl.style.display =\n",
              "          google.colab.kernel.accessAllowed ? 'block' : 'none';\n",
              "\n",
              "        async function convertToInteractive(key) {\n",
              "          const element = document.querySelector('#df-369195f1-3a5a-465f-8400-19979db16f33');\n",
              "          const dataTable =\n",
              "            await google.colab.kernel.invokeFunction('convertToInteractive',\n",
              "                                                     [key], {});\n",
              "          if (!dataTable) return;\n",
              "\n",
              "          const docLinkHtml = 'Like what you see? Visit the ' +\n",
              "            '<a target=\"_blank\" href=https://colab.research.google.com/notebooks/data_table.ipynb>data table notebook</a>'\n",
              "            + ' to learn more about interactive tables.';\n",
              "          element.innerHTML = '';\n",
              "          dataTable['output_type'] = 'display_data';\n",
              "          await google.colab.output.renderOutput(dataTable, element);\n",
              "          const docLink = document.createElement('div');\n",
              "          docLink.innerHTML = docLinkHtml;\n",
              "          element.appendChild(docLink);\n",
              "        }\n",
              "      </script>\n",
              "    </div>\n",
              "  </div>\n",
              "  "
            ]
          },
          "metadata": {},
          "execution_count": 300
        }
      ]
    },
    {
      "cell_type": "code",
      "source": [
        "fig, ax = plt.subplots()\n",
        "ax.plot(loss[:,0], loss[:,1]);\n",
        "ax.axhline(0, linestyle='--', color='r', linewidth=2)\n",
        "ax.xaxis.set_ticks(np.arange(1, 100, 5));\n",
        "ax.set(xlabel='num_components', ylabel='MSE', title='MSE vs number of principal components');"
      ],
      "metadata": {
        "colab": {
          "base_uri": "https://localhost:8080/",
          "height": 306
        },
        "id": "alBt5OzA672-",
        "outputId": "9bd0c3d1-6da0-4016-b296-433f20f97e38"
      },
      "execution_count": 301,
      "outputs": [
        {
          "output_type": "display_data",
          "data": {
            "text/plain": [
              "<Figure size 432x288 with 1 Axes>"
            ],
            "image/png": "[encoded data removed]"
          },
          "metadata": {}
        }
      ]
    },
    {
      "cell_type": "code",
      "source": [
        "plt.figure(figsize=(4,4))\n",
        "actual_sample = X.reshape(28,28)\n",
        "reconst_sample = (reconstructions[6] * std + mu).reshape(28, 28)\n",
        "plt.imshow(actual_sample, cmap='gray')\n",
        "plt.show()\n",
        "plt.imshow(reconst_sample, cmap='gray')\n",
        "plt.show()"
      ],
      "metadata": {
        "colab": {
          "base_uri": "https://localhost:8080/",
          "height": 527
        },
        "id": "OXYGrH5zONBP",
        "outputId": "aad9ceac-bc2c-4b27-df6c-3ea24efc2f5b"
      },
      "execution_count": 302,
      "outputs": [
        {
          "output_type": "display_data",
          "data": {
            "text/plain": [
              "<Figure size 288x288 with 1 Axes>"
            ],
            "image/png": "[encoded data removed]"
          },
          "metadata": {}
        },
        {
          "output_type": "display_data",
          "data": {
            "text/plain": [
              "<Figure size 432x288 with 1 Axes>"
            ],
            "image/png": "[encoded data removed]"
          },
          "metadata": {}
        }
      ]
    },
    {
      "cell_type": "markdown",
      "source": [
        "##PCA for high-dimensional datasets\n",
        "\n",
        "Sometimes, the dimensionality of our dataset may be larger than the number of samples we\n",
        "have. Then it might be inefficient to perform PCA with our implementation above. Instead,\n",
        "we can implement PCA in a more efficient manner, which we call \"PCA for high dimensional data\" (PCA_high_dim).\n",
        "\n",
        "Below are the steps for performing PCA for high dimensional dataset\n",
        "1. Compute the matrix $\\boldsymbol X\\boldsymbol X^T$ (a $N$ by $N$ matrix with $N \\ll D$)\n",
        "2. Compute eigenvalues $\\lambda$s and eigenvectors $V$ for $\\boldsymbol X\\boldsymbol X^T$\n",
        "3. Compute the eigenvectors for the original covariance matrix as $\\boldsymbol X^T\\boldsymbol V$. Choose the eigenvectors associated with the M largest eigenvalues to be the basis of the principal subspace $U$.\n",
        "4. Compute the orthogonal projection of the data onto the subspace spanned by columns of $\\boldsymbol U$."
      ],
      "metadata": {
        "id": "gigkDpKjTFGg"
      }
    },
    {
      "cell_type": "code",
      "source": [
        "### PCA for high-dimensional datasets\n",
        "\n",
        "def PCA_high_dim(X, n_components):\n",
        "    \"\"\"Compute PCA for small sample size but high-dimensional features. \n",
        "    Args:\n",
        "        X: ndarray of size (N, D), where D is the dimension of the sample,\n",
        "           and N is the number of samples\n",
        "        num_components: the number of principal components to use.\n",
        "    Returns:\n",
        "        X_reconstruct: (N, D) ndarray. the reconstruction\n",
        "        of X from the first `num_components` pricipal components.\n",
        "    \"\"\"\n",
        "    N, D = X.shape\n",
        "    M = np.dot(X, X.T) / N\n",
        "    eig_vals, eig_vecs = eig(M)\n",
        "    eig_vals, eig_vecs = eig_vals[:n_components], eig_vecs[:, :n_components]\n",
        "    U = (X.T @ (eig_vecs))\n",
        "    answer = np.zeros((N, D))\n",
        "    answer = (U @ np.linalg.inv(U.T @ U) @ U.T) @ X.T\n",
        "    return answer.T"
      ],
      "metadata": {
        "id": "9o97lgGiVDjT"
      },
      "execution_count": 303,
      "outputs": []
    },
    {
      "cell_type": "code",
      "source": [
        "import timeit\n",
        "def time(f, repeat=10):\n",
        "    times = []\n",
        "    for _ in range(repeat):\n",
        "        start = timeit.default_timer()\n",
        "        f()\n",
        "        stop = timeit.default_timer()\n",
        "        times.append(stop-start)\n",
        "    return np.mean(times), np.std(times)"
      ],
      "metadata": {
        "id": "qfi-hD0EgE9N"
      },
      "execution_count": 304,
      "outputs": []
    },
    {
      "cell_type": "code",
      "source": [
        "times_mm0 = []\n",
        "times_mm1 = []\n",
        "\n",
        "# iterate over datasets of different size\n",
        "for datasetsize in np.arange(4, 784, step=20):\n",
        "    XX = Xbar[:datasetsize] # select the first `datasetsize` samples in the dataset\n",
        "    # record the running time for computing X.T @ X\n",
        "    mu, sigma = time(lambda : XX.T @ XX)\n",
        "    times_mm0.append((datasetsize, mu, sigma))\n",
        "    \n",
        "    # record the running time for computing X @ X.T\n",
        "    mu, sigma = time(lambda : XX @ XX.T)\n",
        "    times_mm1.append((datasetsize, mu, sigma))\n",
        "    \n",
        "times_mm0 = np.asarray(times_mm0)\n",
        "times_mm1 = np.asarray(times_mm1)"
      ],
      "metadata": {
        "id": "-SQ1Y4hzgd9z"
      },
      "execution_count": 305,
      "outputs": []
    },
    {
      "cell_type": "code",
      "source": [
        "fig, ax = plt.subplots()\n",
        "ax.set(xlabel='size of dataset', ylabel='running time')\n",
        "bar = ax.errorbar(times_mm0[:, 0], times_mm0[:, 1], times_mm0[:, 2], label=\"$X^T X$ (PCA)\", linewidth=2)\n",
        "ax.errorbar(times_mm1[:, 0], times_mm1[:, 1], times_mm1[:, 2], label=\"$X X^T$ (PCA_high_dim)\", linewidth=2)\n",
        "ax.legend();"
      ],
      "metadata": {
        "colab": {
          "base_uri": "https://localhost:8080/",
          "height": 289
        },
        "id": "oYnYKvCvgirb",
        "outputId": "45005f71-7d72-43b1-f1b4-52819f88bd44"
      },
      "execution_count": 306,
      "outputs": [
        {
          "output_type": "display_data",
          "data": {
            "text/plain": [
              "<Figure size 432x288 with 1 Axes>"
            ],
            "image/png": "[encoded data removed]"
          },
          "metadata": {}
        }
      ]
    },
    {
      "cell_type": "code",
      "source": [
        "%time Xbar.T @ Xbar\n",
        "%time Xbar @ Xbar.T\n",
        "pass # Put this here so that our output does not show result of computing `Xbar @ Xbar.T`"
      ],
      "metadata": {
        "colab": {
          "base_uri": "https://localhost:8080/"
        },
        "id": "5X4xejbYgmk7",
        "outputId": "ddb9bf04-90ca-4d76-f6fd-10019b4d9fcf"
      },
      "execution_count": 307,
      "outputs": [
        {
          "output_type": "stream",
          "name": "stdout",
          "text": [
            "CPU times: user 1.62 ms, sys: 0 ns, total: 1.62 ms\n",
            "Wall time: 1.64 ms\n",
            "CPU times: user 1.17 ms, sys: 0 ns, total: 1.17 ms\n",
            "Wall time: 1.35 ms\n"
          ]
        }
      ]
    },
    {
      "cell_type": "code",
      "source": [
        "times0 = []\n",
        "times1 = []\n",
        "\n",
        "# iterate over datasets of different size\n",
        "for datasetsize in np.arange(4, 784, step=100):\n",
        "    XX = Xbar[:datasetsize]\n",
        "    npc = 2\n",
        "    mu, sigma = time(lambda : PCA(XX, npc), repeat=10)\n",
        "    times0.append((datasetsize, mu, sigma))\n",
        "    \n",
        "    mu, sigma = time(lambda : PCA_high_dim(XX, npc), repeat=10)\n",
        "    times1.append((datasetsize, mu, sigma))\n",
        "    \n",
        "times0 = np.asarray(times0)\n",
        "times1 = np.asarray(times1)"
      ],
      "metadata": {
        "id": "mSUFG43KgoyL"
      },
      "execution_count": 308,
      "outputs": []
    },
    {
      "cell_type": "code",
      "source": [
        "fig, ax = plt.subplots()\n",
        "ax.set(xlabel='number of datapoints', ylabel='run time')\n",
        "ax.errorbar(times0[:, 0], times0[:, 1], times0[:, 2], label=\"PCA\", linewidth=2)\n",
        "ax.errorbar(times1[:, 0], times1[:, 1], times1[:, 2], label=\"PCA_high_dim\", linewidth=2)\n",
        "ax.legend();"
      ],
      "metadata": {
        "colab": {
          "base_uri": "https://localhost:8080/",
          "height": 289
        },
        "id": "pf-JWqhAgq7b",
        "outputId": "8e76e5fb-76a5-48d6-ee95-6c1a94f4e3aa"
      },
      "execution_count": 309,
      "outputs": [
        {
          "output_type": "display_data",
          "data": {
            "text/plain": [
              "<Figure size 432x288 with 1 Axes>"
            ],
            "image/png": "[encoded data removed]"
          },
          "metadata": {}
        }
      ]
    },
    {
      "cell_type": "code",
      "source": [
        "%time PCA(Xbar, 2)\n",
        "%time PCA_high_dim(Xbar, 2)\n",
        "pass"
      ],
      "metadata": {
        "colab": {
          "base_uri": "https://localhost:8080/"
        },
        "id": "ZfK7FK76gyaj",
        "outputId": "ea5c30c7-8c8a-4652-eab0-ec35c5321359"
      },
      "execution_count": 310,
      "outputs": [
        {
          "output_type": "stream",
          "name": "stdout",
          "text": [
            "CPU times: user 0 ns, sys: 4.77 ms, total: 4.77 ms\n",
            "Wall time: 5.36 ms\n",
            "CPU times: user 1.29 ms, sys: 355 µs, total: 1.64 ms\n",
            "Wall time: 830 µs\n"
          ]
        }
      ]
    }
  ]
}