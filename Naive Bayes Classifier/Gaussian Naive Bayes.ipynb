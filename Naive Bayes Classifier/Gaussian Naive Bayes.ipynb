{
 "cells": [
  {
   "cell_type": "code",
   "execution_count": 3,
   "metadata": {},
   "outputs": [],
   "source": [
    "from sklearn.metrics import confusion_matrix\n",
    "from sklearn.metrics import classification_report\n",
    "from sklearn.model_selection import train_test_split\n",
    "\n",
    "import pandas as pd\n",
    "iris = pd.read_csv('iris_1D.csv')\n",
    "\n",
    "X_train = iris.iloc[:,:-1].values\n",
    "y_train = iris.iloc[:,1].values\n"
   ]
  },
  {
   "cell_type": "code",
   "execution_count": 4,
   "metadata": {},
   "outputs": [],
   "source": [
    "from sklearn.naive_bayes import GaussianNB\n",
    "import numpy as np\n",
    "classifier = GaussianNB()\n",
    "\n",
    "clf = classifier.fit(X_train, y_train)\n"
   ]
  },
  {
   "cell_type": "code",
   "execution_count": 5,
   "metadata": {},
   "outputs": [
    {
     "data": {
      "text/plain": [
       "array([[0.0454125, 0.9545875]])"
      ]
     },
     "execution_count": 5,
     "metadata": {},
     "output_type": "execute_result"
    }
   ],
   "source": [
    "X_test  = np.array([[3.0]])\n",
    "clf.predict_proba(X_test)"
   ]
  },
  {
   "cell_type": "code",
   "execution_count": 6,
   "metadata": {},
   "outputs": [
    {
     "data": {
      "text/plain": [
       "array([5., 5.])"
      ]
     },
     "execution_count": 6,
     "metadata": {},
     "output_type": "execute_result"
    }
   ],
   "source": [
    "clf.class_count_"
   ]
  },
  {
   "cell_type": "markdown",
   "metadata": {},
   "source": [
    "## COMPUTE MANUALLY"
   ]
  },
  {
   "cell_type": "code",
   "execution_count": 7,
   "metadata": {},
   "outputs": [],
   "source": [
    "import math\n",
    "\n",
    "def gaussian_function(data, mean, var):\n",
    "    return (1.0/np.sqrt(2*math.pi*var)) * np.exp(-(data-mean)**2 / (2*var))"
   ]
  },
  {
   "cell_type": "code",
   "execution_count": 8,
   "metadata": {},
   "outputs": [
    {
     "data": {
      "text/plain": [
       "array([1.00761742, 0.40804972, 0.893626  , 0.63670363, 0.46995266])"
      ]
     },
     "execution_count": 8,
     "metadata": {},
     "output_type": "execute_result"
    }
   ],
   "source": [
    "data_c0 = np.array([1.4, 1.0, 1.3, 1.9, 2.0])\n",
    "mean_c0 = data_c0.mean()\n",
    "var_c0  = data_c0.var()\n",
    "prob_c0 = gaussian_function(data_c0, mean_c0, var_c0)\n",
    "prob_c0"
   ]
  },
  {
   "cell_type": "code",
   "execution_count": 9,
   "metadata": {},
   "outputs": [],
   "source": [
    "data_c1 = np.array([3.8, 4.1, 3.9, 4.2, 3.4])\n",
    "mean_c1 = data_c1.mean()\n",
    "var_c1  = data_c1.var()\n",
    "prob_c1 = gaussian_function(data_c1, mean_c1, var_c1)"
   ]
  },
  {
   "cell_type": "code",
   "execution_count": 10,
   "metadata": {},
   "outputs": [
    {
     "name": "stdout",
     "output_type": "stream",
     "text": [
      "[[0.0454125]] [[0.9545875]]\n"
     ]
    }
   ],
   "source": [
    "\n",
    "dpf_c0_x = gaussian_function(X_test, mean_c0, var_c0)\n",
    "dpf_c1_x = gaussian_function(X_test, mean_c1, var_c1)\n",
    "\n",
    "prob_1 = (0.5*dpf_c0_x)/(0.5*dpf_c0_x+0.5*dpf_c1_x)\n",
    "print(prob_1, 1-prob_1)"
   ]
  },
  {
   "cell_type": "code",
   "execution_count": 11,
   "metadata": {},
   "outputs": [
    {
     "name": "stdout",
     "output_type": "stream",
     "text": [
      "[[0.996191 0.003809]]\n"
     ]
    },
    {
     "data": {
      "text/plain": [
       "array([0], dtype=int64)"
      ]
     },
     "execution_count": 11,
     "metadata": {},
     "output_type": "execute_result"
    }
   ],
   "source": [
    "iris_1 = pd.read_csv('iris_2D.csv')\n",
    "\n",
    "X_train1 = iris_1.iloc[:, :-1].values\n",
    "y_train1 = iris_1.iloc[:, -1].values\n",
    "\n",
    "classifier_1 = GaussianNB()\n",
    "clf = classifier_1.fit(X_train1, y_train1)\n",
    "\n",
    "X_test_1 = np.array([[4.1, 2.9]])\n",
    "print(clf.predict_proba(X_test_1))\n",
    "clf.predict(X_test_1)\n",
    "\n",
    "\n",
    " "
   ]
  },
  {
   "cell_type": "code",
   "execution_count": 12,
   "metadata": {},
   "outputs": [
    {
     "name": "stdout",
     "output_type": "stream",
     "text": [
      "[[0.0418694  0.19180669 0.76632391]]\n"
     ]
    },
    {
     "data": {
      "text/plain": [
       "array([2], dtype=int64)"
      ]
     },
     "execution_count": 12,
     "metadata": {},
     "output_type": "execute_result"
    }
   ],
   "source": [
    "iris_2 = pd.read_csv('iris_2D_3C.csv')\n",
    "\n",
    "X_train1 = iris_2.iloc[:, :-1].values\n",
    "y_train1 = iris_2.iloc[:, -1].values\n",
    "\n",
    "classifier_2 = GaussianNB()\n",
    "clf = classifier_2.fit(X_train1, y_train1)\n",
    "\n",
    "X_test_2 = np.array([[5.2, 2.4]])\n",
    "print(clf.predict_proba(X_test_2))\n",
    "clf.predict(X_test_2)"
   ]
  }
 ],
 "metadata": {
  "kernelspec": {
   "display_name": "Python 3.9.1 64-bit",
   "language": "python",
   "name": "python3"
  },
  "language_info": {
   "codemirror_mode": {
    "name": "ipython",
    "version": 3
   },
   "file_extension": ".py",
   "mimetype": "text/x-python",
   "name": "python",
   "nbconvert_exporter": "python",
   "pygments_lexer": "ipython3",
   "version": "3.9.1"
  },
  "orig_nbformat": 4,
  "vscode": {
   "interpreter": {
    "hash": "2490855b5cec164743b88aa6beee7cff96c6731ddd63ef61c72ab00dc4cb9891"
   }
  }
 },
 "nbformat": 4,
 "nbformat_minor": 2
}
